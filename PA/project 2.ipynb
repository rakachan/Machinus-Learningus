{
 "cells": [
  {
   "cell_type": "code",
   "execution_count": 1,
   "metadata": {
    "collapsed": true
   },
   "outputs": [],
   "source": [
    "# Useful starting lines\n",
    "%matplotlib inline\n",
    "\n",
    "import numpy as np\n",
    "import scipy\n",
    "import scipy.io\n",
    "import scipy.sparse as sp\n",
    "import matplotlib.pyplot as plt\n",
    "from sklearn.decomposition import SparsePCA\n",
    "\n",
    "%load_ext autoreload\n",
    "%autoreload 2"
   ]
  },
  {
   "cell_type": "code",
   "execution_count": 47,
   "metadata": {},
   "outputs": [
    {
     "name": "stdout",
     "output_type": "stream",
     "text": [
      "number of items: 10000, number of users: 1000\n"
     ]
    }
   ],
   "source": [
    "from helpers import load_data, preprocess_data, load_data2, preprocess_data2\n",
    "\n",
    "path_dataset = \"data_train.csv\"\n",
    "ratings = load_data(path_dataset)"
   ]
  },
  {
   "cell_type": "code",
   "execution_count": 30,
   "metadata": {
    "collapsed": true
   },
   "outputs": [],
   "source": [
    "def split_data2(ratings, num_items_per_user, num_users_per_item,\n",
    "               min_num_ratings, p_test=0.1):\n",
    "    \"\"\"split the ratings to training data and test data.\n",
    "    Args:\n",
    "        min_num_ratings: \n",
    "            all users and items we keep must have at least min_num_ratings per user and per item. \n",
    "    \"\"\"\n",
    "    # set seed\n",
    "    np.random.seed(988)\n",
    "    \n",
    "    # select user and item based on the condition.\n",
    "    valid_users = np.where(num_items_per_user >= min_num_ratings)[0]\n",
    "    valid_items = np.where(num_users_per_item >= min_num_ratings)[0]\n",
    "    valid_ratings = ratings[valid_users, :][: , valid_items]  \n",
    "    \n",
    "    # init\n",
    "    num_rows, num_cols = valid_ratings.shape\n",
    "    train = sp.lil_matrix((num_rows, num_cols))\n",
    "    test = sp.lil_matrix((num_rows, num_cols))\n",
    "    \n",
    "    print(\"the shape of original ratings. (# of row, # of col): {}\".format(\n",
    "        ratings.shape))\n",
    "    print(\"the shape of valid ratings. (# of row, # of col): {}\".format(\n",
    "        (num_rows, num_cols)))\n",
    "\n",
    "    nz_users, nz_items = valid_ratings.nonzero()\n",
    "    \n",
    "    # split the data\n",
    "    for user in set(nz_users):\n",
    "        # randomly select a subset of ratings\n",
    "        row, col = valid_ratings[user,:].nonzero()\n",
    "        selects = np.random.choice(col, size=int(len(col) * p_test))\n",
    "        residual = list(set(col) - set(selects))\n",
    "\n",
    "        # add to train set\n",
    "        train[user, residual] = valid_ratings[user, residual]\n",
    "\n",
    "        # add to test set\n",
    "        test[user, selects] = valid_ratings[user, selects]\n",
    "\n",
    "    print(\"Total number of nonzero elements in origial data:{v}\".format(v=ratings.nnz))\n",
    "    print(\"Total number of nonzero elements in train data:{v}\".format(v=train.nnz))\n",
    "    print(\"Total number of nonzero elements in test data:{v}\".format(v=test.nnz))\n",
    "    return valid_ratings, train, test"
   ]
  },
  {
   "cell_type": "code",
   "execution_count": 31,
   "metadata": {
    "collapsed": true
   },
   "outputs": [],
   "source": [
    "def split_data(ratings, num_items_per_user, num_users_per_item,\n",
    "               min_num_ratings, p_test=0.1):\n",
    "    \"\"\"split the ratings to training data and test data.\n",
    "    Args:\n",
    "        min_num_ratings: \n",
    "            all users and items we keep must have at least min_num_ratings per user and per item. \n",
    "    \"\"\"\n",
    "    # set seed\n",
    "    np.random.seed(987)\n",
    "    \n",
    "    # select user and item based on the condition.\n",
    "    valid_users = np.where(num_items_per_user >= min_num_ratings)[0]\n",
    "    valid_items = np.where(num_users_per_item >= min_num_ratings)[0]\n",
    "    valid_ratings = ratings[valid_users, :][: , valid_items]  \n",
    "    \n",
    "    # init\n",
    "    num_rows, num_cols = valid_ratings.shape\n",
    "    train = sp.lil_matrix((num_rows, num_cols))\n",
    "    test = sp.lil_matrix((num_rows, num_cols))\n",
    "    \n",
    "    print(\"the shape of original ratings. (# of row, # of col): {}\".format(\n",
    "        ratings.shape))\n",
    "    print(\"the shape of valid ratings. (# of row, # of col): {}\".format(\n",
    "        (num_rows, num_cols)))\n",
    "\n",
    "    nz_users, nz_items = valid_ratings.nonzero()\n",
    "    \n",
    "    # split the data\n",
    "    for item in set(nz_items):\n",
    "        # randomly select a subset of ratings\n",
    "        row, col = valid_ratings[:, item].nonzero()\n",
    "        selects = np.random.choice(row, size=int(len(row) * p_test))\n",
    "        residual = list(set(row) - set(selects))\n",
    "\n",
    "        # add to train set\n",
    "        train[residual, item] = valid_ratings[residual, item]\n",
    "\n",
    "        # add to test set\n",
    "        test[selects, item] = valid_ratings[selects, item]\n",
    "\n",
    "    print(\"Total number of nonzero elements in original data:{v}\".format(v=ratings.nnz))\n",
    "    print(\"Total number of nonzero elements in validated data:{v}\".format(v=valid_ratings.nnz))\n",
    "    print(\"Total number of nonzero elements in train data:{v}\".format(v=train.nnz))\n",
    "    print(\"Total number of nonzero elements in test data:{v}\".format(v=test.nnz))\n",
    "    return valid_ratings, train, test"
   ]
  },
  {
   "cell_type": "code",
   "execution_count": 40,
   "metadata": {},
   "outputs": [
    {
     "data": {
      "image/png": "[encoded data removed]",
      "text/plain": [
       "<matplotlib.figure.Figure at 0x11604b518>"
      ]
     },
     "metadata": {},
     "output_type": "display_data"
    }
   ],
   "source": [
    "from plots import plot_raw_data\n",
    "num_users_per_item, num_items_per_user = plot_raw_data(ratings)"
   ]
  },
  {
   "cell_type": "code",
   "execution_count": 38,
   "metadata": {},
   "outputs": [
    {
     "data": {
      "text/plain": [
       "1000"
      ]
     },
     "execution_count": 38,
     "metadata": {},
     "output_type": "execute_result"
    }
   ],
   "source": [
    "len(num_items_per_user)"
   ]
  },
  {
   "cell_type": "code",
   "execution_count": 41,
   "metadata": {},
   "outputs": [
    {
     "name": "stdout",
     "output_type": "stream",
     "text": [
      "the shape of original ratings. (# of row, # of col): (10000, 1000)\n",
      "the shape of valid ratings. (# of row, # of col): (10000, 1000)\n",
      "Total number of nonzero elements in original data:1176952\n",
      "Total number of nonzero elements in validated data:1176952\n",
      "Total number of nonzero elements in train data:1065354\n",
      "Total number of nonzero elements in test data:111598\n"
     ]
    }
   ],
   "source": [
    "valid_ratings, train, test = split_data(\n",
    "    ratings, num_items_per_user, num_users_per_item, min_num_ratings=0, p_test=0.1)"
   ]
  },
  {
   "cell_type": "code",
   "execution_count": 13,
   "metadata": {
    "collapsed": true
   },
   "outputs": [],
   "source": [
    "def compute_error(data, user_features, item_features, nz):\n",
    "    \"\"\"compute the loss (MSE) of the prediction of nonzero elements.\"\"\"\n",
    "    mse = 0\n",
    "    \n",
    "    for row, col in nz:\n",
    "        item_info = item_features[:, col]\n",
    "        user_info = user_features[:, row]\n",
    "\n",
    "        mse += (data[row, col] - item_info.T.dot(user_info)) ** 2\n",
    "    return np.sqrt(1.0 * mse / len(nz))"
   ]
  },
  {
   "cell_type": "code",
   "execution_count": 66,
   "metadata": {
    "collapsed": true
   },
   "outputs": [],
   "source": [
    "def compute_error_final(data, user_features, item_features, nz, bias):\n",
    "    \"\"\"compute the loss (MSE) of the prediction of nonzero elements.\"\"\"\n",
    "    mse = 0\n",
    "    \n",
    "    user_bias = bias[1]\n",
    "    item_bias = bias[2]\n",
    "    mu = bias[0]\n",
    "    \n",
    "    for row, col in nz:\n",
    "        item_info = item_features[:, col]\n",
    "        user_info = user_features[:, row]\n",
    "\n",
    "        mse += (data[row, col] - (mu + user_bias[row] + item_bias[col]) - item_info.T.dot(user_info)) ** 2\n",
    "    return np.sqrt(1.0 * mse / len(nz))"
   ]
  },
  {
   "cell_type": "code",
   "execution_count": 15,
   "metadata": {
    "collapsed": true
   },
   "outputs": [],
   "source": [
    "def init_MF(train, num_features):\n",
    "    \"\"\"init the parameter for matrix factorization.\"\"\"\n",
    "        \n",
    "    num_user, num_item = train.get_shape()\n",
    "\n",
    "    user_features = np.random.rand(num_features, num_user)\n",
    "    item_features = np.random.rand(num_features, num_item)\n",
    "\n",
    "    # start by item features.\n",
    "    item_nnz = train.getnnz(axis=0)\n",
    "    item_sum = train.sum(axis=0)\n",
    "\n",
    "    for ind in range(num_item):\n",
    "        item_features[0, ind] = item_sum[0, ind] / item_nnz[ind]\n",
    "    return user_features, item_features"
   ]
  },
  {
   "cell_type": "code",
   "execution_count": 62,
   "metadata": {
    "collapsed": true
   },
   "outputs": [],
   "source": [
    "def update_user_feature(\n",
    "        train, item_features, lambda_user,\n",
    "        nnz_items_per_user, nz_user_itemindices, bias):\n",
    "    \"\"\"update user feature matrix.\"\"\"\n",
    "    num_user = nnz_items_per_user.shape[0]\n",
    "    num_feature = item_features.shape[0]\n",
    "    lambda_I = lambda_user * sp.eye(num_feature)\n",
    "    updated_user_features = np.zeros((num_feature, num_user))\n",
    "\n",
    "    mu = bias[0] #train.mean()\n",
    "    user_bias = bias[1] #train.mean(axis=1).flatten().T\n",
    "    item_bias = bias[2] #train.mean(axis=0).flatten().T\n",
    "        \n",
    "    for user, items in nz_user_itemindices:\n",
    "        # extract the columns corresponding to the prediction for given item\n",
    "        M = item_features[:, items]\n",
    "        basis = train[user, items].copy().power(0)\n",
    "        \n",
    "        # update column row of user features\n",
    "        V = M @ (train[user, items] - basis.multiply(mu + user_bias[user]) - item_bias[items].T).T\n",
    "        A = M @ M.T + nnz_items_per_user[user] * lambda_I\n",
    "        X = np.linalg.solve(A, V)\n",
    "        updated_user_features[:,user] = np.copy(X.T)\n",
    "    return updated_user_features\n",
    "\n",
    "def update_item_feature(\n",
    "        train, user_features, lambda_item,\n",
    "        nnz_users_per_item, nz_item_userindices, bias):\n",
    "    \"\"\"update item feature matrix.\"\"\"\n",
    "    num_item = nnz_users_per_item.shape[0]\n",
    "    num_feature = user_features.shape[0]\n",
    "    lambda_I = lambda_item * sp.eye(num_feature)\n",
    "    updated_item_features = np.zeros((num_feature, num_item))\n",
    "    \n",
    "    mu = bias[0] #train.mean()\n",
    "    user_bias = bias[1] #train.mean(axis=1).flatten().T\n",
    "    item_bias = bias[2] #train.mean(axis=0).flatten().T\n",
    "\n",
    "    for item, users in nz_item_userindices:\n",
    "        # extract the columns corresponding to the prediction for given user\n",
    "        basis = train[users, item].copy().power(0)\n",
    "        M = user_features[:, users]\n",
    "        V = M @ (train[users, item] - basis.multiply(mu + item_bias[item]) - user_bias[users])\n",
    "        A = M @ M.T + nnz_users_per_item[item] * lambda_I\n",
    "        X = np.linalg.solve(A, V)\n",
    "        updated_item_features[:,item] = np.copy(X.T)\n",
    "    return updated_item_features"
   ]
  },
  {
   "cell_type": "code",
   "execution_count": 17,
   "metadata": {
    "collapsed": true
   },
   "outputs": [],
   "source": [
    "def collaborative_filtering(train, alpha):\n",
    "    tmp = train.copy()\n",
    "    C = tmp.power(0) + alpha*train\n",
    "    P = train.tocsr().sign().tolil()\n",
    "    return C, P"
   ]
  },
  {
   "cell_type": "code",
   "execution_count": 77,
   "metadata": {
    "collapsed": true,
    "scrolled": false
   },
   "outputs": [],
   "source": [
    "from helpers import build_index_groups\n",
    "\n",
    "\n",
    "def ALS(train, test, ratings):\n",
    "    \"\"\"Alternating Least Squares (ALS) algorithm.\"\"\"\n",
    "    # define parameters\n",
    "    num_features = 110   # K in the lecture notes\n",
    "    lambda_user = 0.09\n",
    "    lambda_item = 0.09\n",
    "    stop_criterion = 1e-5\n",
    "    change = 1\n",
    "    error_list = [0, 0]\n",
    "    \n",
    "    # set seed\n",
    "    np.random.seed(1042)\n",
    "\n",
    "    # init ALS\n",
    "    user_features, item_features = init_MF(train, num_features)\n",
    "    \n",
    "    #C, P = collaborative_filtering(train, alpha)\n",
    "    \n",
    "    # get the number of non-zero ratings for each user and item\n",
    "    nnz_items_per_user, nnz_users_per_item = train.getnnz(axis=1), train.getnnz(axis=0)\n",
    "    #nnz_items_c, nnz_users_c = C.getnnz(axis=1), C.getnnz(axis=0)\n",
    "    \n",
    "    # group the indices by row or column index\n",
    "    nz_train, nz_user_itemindices, nz_item_userindices = build_index_groups(train)\n",
    "    \n",
    "    bias = ratings.mean(), ratings.mean(axis=1).flatten().T, ratings.mean(axis=0).flatten().T\n",
    "\n",
    "    # run ALS\n",
    "    print(\"\\nstart the ALS algorithm...\")\n",
    "    while change > stop_criterion:\n",
    "        # update user feature & item feature\n",
    "        user_features = update_user_feature(\n",
    "            train, item_features, lambda_user,\n",
    "            nnz_items_per_user, nz_user_itemindices, bias)\n",
    "        item_features = update_item_feature(\n",
    "            train, user_features, lambda_item,\n",
    "            nnz_users_per_item, nz_item_userindices, bias)\n",
    "\n",
    "        error = compute_error_final(train, user_features, item_features, nz_train, bias)\n",
    "        print(\"RMSE on training set: {}.\".format(error))\n",
    "        error_list.append(error)\n",
    "        change = np.fabs(error_list[-1] - error_list[-2])\n",
    "\n",
    "    # evaluate the test error\n",
    "    nnz_row, nnz_col = test.nonzero()\n",
    "    nnz_test = list(zip(nnz_row, nnz_col))\n",
    "    rmse = compute_error_final(test, user_features, item_features, nnz_test, bias)\n",
    "    print(\"test RMSE after running ALS: {v}.\".format(v=rmse))\n",
    "    \n",
    "    return user_features, item_features, error_list, bias"
   ]
  },
  {
   "cell_type": "code",
   "execution_count": 78,
   "metadata": {},
   "outputs": [
    {
     "name": "stdout",
     "output_type": "stream",
     "text": [
      "\n",
      "start the ALS algorithm...\n",
      "RMSE on training set: [[ 1.25007678]].\n",
      "RMSE on training set: [[ 0.94800073]].\n",
      "RMSE on training set: [[ 0.90192496]].\n",
      "RMSE on training set: [[ 0.88001668]].\n",
      "RMSE on training set: [[ 0.86696064]].\n",
      "RMSE on training set: [[ 0.85837079]].\n",
      "RMSE on training set: [[ 0.85239428]].\n",
      "RMSE on training set: [[ 0.84807576]].\n",
      "RMSE on training set: [[ 0.84486603]].\n",
      "RMSE on training set: [[ 0.84242733]].\n",
      "RMSE on training set: [[ 0.84054115]].\n",
      "RMSE on training set: [[ 0.83906]].\n",
      "RMSE on training set: [[ 0.83788106]].\n",
      "RMSE on training set: [[ 0.83693091]].\n",
      "RMSE on training set: [[ 0.83615629]].\n",
      "RMSE on training set: [[ 0.83551805]].\n",
      "RMSE on training set: [[ 0.83498703]].\n",
      "RMSE on training set: [[ 0.83454128]].\n",
      "RMSE on training set: [[ 0.83416405]].\n",
      "RMSE on training set: [[ 0.83384244]].\n",
      "RMSE on training set: [[ 0.8335664]].\n",
      "RMSE on training set: [[ 0.83332802]].\n",
      "RMSE on training set: [[ 0.83312101]].\n",
      "RMSE on training set: [[ 0.83294034]].\n",
      "RMSE on training set: [[ 0.83278191]].\n",
      "RMSE on training set: [[ 0.83264239]].\n",
      "RMSE on training set: [[ 0.83251904]].\n",
      "RMSE on training set: [[ 0.83240955]].\n",
      "RMSE on training set: [[ 0.83231201]].\n",
      "RMSE on training set: [[ 0.83222482]].\n",
      "RMSE on training set: [[ 0.83214661]].\n",
      "RMSE on training set: [[ 0.8320762]].\n",
      "RMSE on training set: [[ 0.83201262]].\n",
      "RMSE on training set: [[ 0.831955]].\n",
      "RMSE on training set: [[ 0.83190263]].\n",
      "RMSE on training set: [[ 0.83185486]].\n",
      "RMSE on training set: [[ 0.83181117]].\n",
      "RMSE on training set: [[ 0.83177108]].\n",
      "RMSE on training set: [[ 0.83173418]].\n",
      "RMSE on training set: [[ 0.83170014]].\n",
      "RMSE on training set: [[ 0.83166865]].\n",
      "RMSE on training set: [[ 0.83163944]].\n",
      "RMSE on training set: [[ 0.83161228]].\n",
      "RMSE on training set: [[ 0.83158699]].\n",
      "RMSE on training set: [[ 0.83156337]].\n",
      "RMSE on training set: [[ 0.83154129]].\n",
      "RMSE on training set: [[ 0.83152062]].\n",
      "RMSE on training set: [[ 0.83150122]].\n",
      "RMSE on training set: [[ 0.831483]].\n",
      "RMSE on training set: [[ 0.83146588]].\n",
      "RMSE on training set: [[ 0.83144976]].\n",
      "RMSE on training set: [[ 0.83143458]].\n",
      "RMSE on training set: [[ 0.83142026]].\n",
      "RMSE on training set: [[ 0.83140676]].\n",
      "RMSE on training set: [[ 0.83139402]].\n",
      "RMSE on training set: [[ 0.83138198]].\n",
      "RMSE on training set: [[ 0.8313706]].\n",
      "RMSE on training set: [[ 0.83135984]].\n",
      "RMSE on training set: [[ 0.83134967]].\n",
      "RMSE on training set: [[ 0.83134004]].\n",
      "test RMSE after running ALS: [[ 0.98363615]].\n"
     ]
    }
   ],
   "source": [
    "W, Z, error_l, bias = ALS(train, test, ratings)"
   ]
  },
  {
   "cell_type": "code",
   "execution_count": 81,
   "metadata": {},
   "outputs": [
    {
     "data": {
      "text/plain": [
       "[<matplotlib.lines.Line2D at 0x113e9b9e8>]"
      ]
     },
     "execution_count": 81,
     "metadata": {},
     "output_type": "execute_result"
    },
    {
     "data": {
      "image/png": "[encoded data removed]",
      "text/plain": [
       "<matplotlib.figure.Figure at 0x11604c198>"
      ]
     },
     "metadata": {},
     "output_type": "display_data"
    }
   ],
   "source": [
    "plt.plot(error_l)"
   ]
  },
  {
   "cell_type": "markdown",
   "metadata": {},
   "source": [
    "0.98363615"
   ]
  },
  {
   "cell_type": "code",
   "execution_count": 79,
   "metadata": {
    "collapsed": true
   },
   "outputs": [],
   "source": [
    "pred = W.T@Z"
   ]
  },
  {
   "cell_type": "code",
   "execution_count": 72,
   "metadata": {},
   "outputs": [
    {
     "data": {
      "text/plain": [
       "(100, 10000)"
      ]
     },
     "execution_count": 72,
     "metadata": {},
     "output_type": "execute_result"
    }
   ],
   "source": [
    "W.shape"
   ]
  },
  {
   "cell_type": "code",
   "execution_count": 21,
   "metadata": {},
   "outputs": [
    {
     "name": "stdout",
     "output_type": "stream",
     "text": [
      "number of items: 10000, number of users: 1000\n"
     ]
    }
   ],
   "source": [
    "path_dataset2 = \"sample_submission.csv\"\n",
    "sub_ex = load_data(path_dataset2)"
   ]
  },
  {
   "cell_type": "code",
   "execution_count": 80,
   "metadata": {
    "collapsed": true
   },
   "outputs": [],
   "source": [
    "import csv\n",
    "\n",
    "def create_csv_submission(pred_nonzero, approx, train, name, bias, round_=False):\n",
    "    mu = bias[0]#train.mean()\n",
    "    user_bias = bias[1] #train.mean(axis=1).flatten().T\n",
    "    item_bias = bias[2] #train.mean(axis=0).flatten().T\n",
    "    \n",
    "    nnz_row, nnz_col = train.nonzero()\n",
    "    \n",
    "    with open(name, 'w', newline='') as csvfile:\n",
    "        fieldnames = ['Id', 'Prediction']\n",
    "        writer = csv.DictWriter(csvfile, delimiter=\",\", fieldnames=fieldnames)\n",
    "        writer.writeheader()\n",
    "        for row, col in pred_nonzero:\n",
    "            ids = 'r' + str(row+1) + '_c' + str(col+1)\n",
    "            \n",
    "            \"\"\"if row in nnz_row and col in nnz_col:\n",
    "                bias = (mu + user_bias[row] + item_bias[col])\n",
    "            elif row in nnz_row:\n",
    "                bias =  mu + user_bias[row]\n",
    "            elif col in nnz_row:\n",
    "                bias = mu + item_bias[col]\"\"\"\n",
    "            \n",
    "            b = mu + user_bias[row] + item_bias[col]\n",
    "            \n",
    "            if round_:\n",
    "                value = round(approx[row, col] + b)\n",
    "            else:\n",
    "                value = approx[row, col] + b\n",
    "                \n",
    "            value = value.item(0)\n",
    "                \n",
    "            writer.writerow({'Id':ids,'Prediction':value})\n",
    "            \n",
    "create_csv_submission(list(zip(*sub_ex.nonzero())), pred, train, 'potato2.csv', bias)"
   ]
  },
  {
   "cell_type": "code",
   "execution_count": 51,
   "metadata": {},
   "outputs": [
    {
     "name": "stdout",
     "output_type": "stream",
     "text": [
      "number of items: 10000, number of users: 1000\n"
     ]
    }
   ],
   "source": [
    "data = load_data2('potato.csv')"
   ]
  },
  {
   "cell_type": "code",
   "execution_count": null,
   "metadata": {
    "collapsed": true
   },
   "outputs": [],
   "source": [
    "def create_csv_submission(pred_nonzero, approx, train, name, round_=False):\n",
    "    \n",
    "    with open(name, 'w', newline='') as csvfile:\n",
    "        fieldnames = ['Id', 'Prediction']\n",
    "        writer = csv.DictWriter(csvfile, delimiter=\",\", fieldnames=fieldnames)\n",
    "        writer.writeheader()\n",
    "        for row, col in pred_nonzero:\n",
    "            ids = 'r' + str(row+1) + '_c' + str(col+1)\n",
    "            \n",
    "            if row in nnz_row and col in nnz_col:\n",
    "                bias = 0.5*(user_bias[row] + item_bias[col])\n",
    "            elif row in nnz_row:\n",
    "                bias = user_bias[row]\n",
    "            elif col in nnz_row:\n",
    "                bias = item_bias[col]\n",
    "            \n",
    "            if round_:\n",
    "                value = round(approx[row, col] + bias)\n",
    "            else:\n",
    "                value = approx[row, col] + bias\n",
    "                \n",
    "            writer.writerow({'Id':ids,'Prediction':value})\n",
    "            \n",
    "create_csv_submission(list(zip(*sub_ex.nonzero())), pred, train, 'potato.csv')"
   ]
  }
 ],
 "metadata": {
  "anaconda-cloud": {},
  "kernelspec": {
   "display_name": "Python [default]",
   "language": "python",
   "name": "python3"
  },
  "language_info": {
   "codemirror_mode": {
    "name": "ipython",
    "version": 3
   },
   "file_extension": ".py",
   "mimetype": "text/x-python",
   "name": "python",
   "nbconvert_exporter": "python",
   "pygments_lexer": "ipython3",
   "version": "3.5.3"
  }
 },
 "nbformat": 4,
 "nbformat_minor": 2
}
