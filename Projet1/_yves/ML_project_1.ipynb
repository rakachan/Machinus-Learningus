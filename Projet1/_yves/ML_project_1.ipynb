{
 "cells": [
  {
   "cell_type": "markdown",
   "metadata": {},
   "source": [
    "# ML project 1\n"
   ]
  },
  {
   "cell_type": "code",
   "execution_count": 5,
   "metadata": {
    "collapsed": false,
    "scrolled": true
   },
   "outputs": [
    {
     "name": "stdout",
     "output_type": "stream",
     "text": [
      "The autoreload extension is already loaded. To reload it, use:\n",
      "  %reload_ext autoreload\n"
     ]
    }
   ],
   "source": [
    "%matplotlib inline\n",
    "import numpy as np\n",
    "import matplotlib.pyplot as plt\n",
    "\n",
    "from proj1_helpers import *\n",
    "from helpers import *\n",
    "from implementations import *\n",
    "\n",
    "from data_pre_processing import preprocess_data\n",
    "\n",
    "%load_ext autoreload\n",
    "%autoreload 2"
   ]
  },
  {
   "cell_type": "markdown",
   "metadata": {},
   "source": [
    "### Loading data"
   ]
  },
  {
   "cell_type": "code",
   "execution_count": 6,
   "metadata": {
    "collapsed": true
   },
   "outputs": [],
   "source": [
    "te_data = load_csv_data(\"data/test.csv\", sub_sample=False)"
   ]
  },
  {
   "cell_type": "code",
   "execution_count": 7,
   "metadata": {
    "collapsed": true
   },
   "outputs": [],
   "source": [
    "tr_data = load_csv_data(\"data/train.csv\", sub_sample=False)"
   ]
  },
  {
   "cell_type": "code",
   "execution_count": 8,
   "metadata": {
    "collapsed": true
   },
   "outputs": [],
   "source": [
    "#get testing data\n",
    "x_te = te_data[1]\n",
    "y_te = te_data[0]\n",
    "#we only need the ids to make the submission file\n",
    "ids_te = te_data[2]"
   ]
  },
  {
   "cell_type": "code",
   "execution_count": 9,
   "metadata": {
    "collapsed": true,
    "scrolled": true
   },
   "outputs": [],
   "source": [
    "#get training data\n",
    "x = tr_data[1]\n",
    "y = tr_data[0]"
   ]
  },
  {
   "cell_type": "markdown",
   "metadata": {},
   "source": [
    "### preprocess data"
   ]
  },
  {
   "cell_type": "code",
   "execution_count": 10,
   "metadata": {
    "collapsed": true
   },
   "outputs": [],
   "source": [
    "#get the training data split by set and the jet indices\n",
    "xx, yy, jet_indices = preprocess_data(x, y, augment=True, clean=True)"
   ]
  },
  {
   "cell_type": "code",
   "execution_count": 11,
   "metadata": {
    "collapsed": true
   },
   "outputs": [],
   "source": [
    "#get the training data split by set and the jet indices\n",
    "xx_te, yy_te, jet_indices_te = preprocess_data(x_te, y_te, augment=True, clean=True)"
   ]
  },
  {
   "cell_type": "markdown",
   "metadata": {},
   "source": [
    "### Regression functions"
   ]
  },
  {
   "cell_type": "code",
   "execution_count": 12,
   "metadata": {
    "collapsed": true
   },
   "outputs": [],
   "source": [
    "def cross_validation(y, x, k_indices, k, lambda_):\n",
    "    \"\"\"return the accuracy of ridge regression for this k-fold.\"\"\"\n",
    "    # ***************************************************\n",
    "    # get k'th subgroup in test, others in train\n",
    "    # ***************************************************\n",
    "    te_x = x[k_indices[k]]\n",
    "    te_y = y[k_indices[k]]\n",
    "    \n",
    "    tr_x = np.delete(x, k_indices[k], axis=0)\n",
    "    tr_y = np.delete(y, k_indices[k], axis=0)   \n",
    "    \n",
    "    # ***************************************************\n",
    "    # regression\n",
    "    # ***************************************************\n",
    "    w_star, _ = ridge_regression(tr_y, tr_x, lambda_)\n",
    "    \n",
    "    # ***************************************************\n",
    "    # calculate the accuracy for train and test data\n",
    "    # ***************************************************\n",
    "    accuracy_tr = accuracy(tr_y, tr_x, w_star)\n",
    "    accuracy_te = accuracy(te_y, te_x, w_star)\n",
    "    \n",
    "    return accuracy_tr, accuracy_te, w_star"
   ]
  },
  {
   "cell_type": "code",
   "execution_count": 13,
   "metadata": {
    "collapsed": true
   },
   "outputs": [],
   "source": [
    "def best_model_cross_validation(x, y, seed, degrees_range, k_fold=4, lambdas=None):\n",
    "    \"\"\"\n",
    "    This function will iterate over the given degrees and lambdas to\n",
    "    find the ones which yield the best accuracy using cross validation.\n",
    "    \"\"\"\n",
    "    degrees = range(degrees_range[0], degrees_range[1]+1)\n",
    "    \n",
    "    # split data in k fold\n",
    "    k_indices = build_k_indices(y, k_fold, seed)\n",
    "     \n",
    "    #variables to store the best parameters and results    \n",
    "    best1_accuracy = 0.0\n",
    "    best1_lambda = 0\n",
    "    best1_degree = 0\n",
    "    best1_w = [];\n",
    "    \n",
    "    for i, degree in enumerate(degrees):\n",
    "            \n",
    "        best0_accuracy = 0.0\n",
    "        best0_lambda = 0\n",
    "        best0_w = [];\n",
    "        \n",
    "        #Add the columns with raised power.\n",
    "        x_poly = build_poly_matrix(x, degree)\n",
    "        \n",
    "        for j, lambda_ in enumerate(lambdas):\n",
    "            \n",
    "            #prepare variables for the k-fold average\n",
    "            tmp_te = 0\n",
    "            tmp_w = 0\n",
    "\n",
    "            for k in range(k_fold):\n",
    "                _, accuracy_te, w_star = \\\n",
    "                    cross_validation(y, x_poly, k_indices, k, lambda_)\n",
    "                    \n",
    "                tmp_te += accuracy_te\n",
    "                #We also average the weights\n",
    "                tmp_w += w_star\n",
    "\n",
    "            te_accuracy = tmp_te/k_fold\n",
    "\n",
    "            if te_accuracy > best0_accuracy:\n",
    "                best0_accuracy = te_accuracy\n",
    "                best0_lambda = lambda_\n",
    "                best0_w = tmp_w/k_fold\n",
    "                \n",
    "        if best0_accuracy > best1_accuracy:\n",
    "            best1_accuracy = best0_accuracy\n",
    "            best1_lambda = best0_lambda\n",
    "            best1_degree = degree\n",
    "            best1_w = best0_w\n",
    "        \n",
    "    return best1_accuracy, best1_w, best1_degree, best1_lambda"
   ]
  },
  {
   "cell_type": "markdown",
   "metadata": {},
   "source": [
    "### Regression"
   ]
  },
  {
   "cell_type": "code",
   "execution_count": 14,
   "metadata": {
    "collapsed": false,
    "scrolled": false
   },
   "outputs": [
    {
     "name": "stdout",
     "output_type": "stream",
     "text": [
      "jet :  0\n",
      "jet :  1\n",
      "jet :  2\n",
      "==> Done.\n"
     ]
    }
   ],
   "source": [
    "#array to store the best results \n",
    "#and parameters for each jet.\n",
    "accuracy_arr = []\n",
    "w_arr = []\n",
    "lambda_arr = []\n",
    "degree_arr = []\n",
    "\n",
    "#Here we already give the best parameter\n",
    "#since we already found them.\n",
    "degrees = [[5,5], [9, 9], [13, 13]]\n",
    "lambdas =[[1e-08], [8.53167852417e-07], [1.26896100317e-07]]\n",
    "#We tried different seeds and this was the best one.\n",
    "seed = 120\n",
    "\n",
    "#for each jet\n",
    "for jet in range(3):\n",
    "    #print something to get an idea of the progress\n",
    "    print('jet : ', jet)\n",
    "    best_accuracy, best_w, best_degree, best_lambda = \\\n",
    "        best_model_cross_validation(xx[jet], yy[jet], seed, degrees[jet], lambdas=lambdas[jet])  \n",
    "    \n",
    "    accuracy_arr.append(best_accuracy)\n",
    "    w_arr.append(best_w)\n",
    "    lambda_arr.append(best_lambda)\n",
    "    degree_arr.append(best_degree)\n",
    "    \n",
    "print('==> Done.')"
   ]
  },
  {
   "cell_type": "markdown",
   "metadata": {},
   "source": [
    "### Display the best results for each jet"
   ]
  },
  {
   "cell_type": "code",
   "execution_count": 15,
   "metadata": {
    "collapsed": false,
    "scrolled": false
   },
   "outputs": [
    {
     "name": "stdout",
     "output_type": "stream",
     "text": [
      "jet =  0\n",
      "\tRidge regression accuracy :  0.844434658153\n",
      "\tbest lambda :  1e-08\n",
      "\tbest degree :  5\n",
      "jet =  1\n",
      "\tRidge regression accuracy :  0.806883833694\n",
      "\tbest lambda :  8.53167852417e-07\n",
      "\tbest degree :  9\n",
      "jet =  2\n",
      "\tRidge regression accuracy :  0.832292571303\n",
      "\tbest lambda :  1.26896100317e-07\n",
      "\tbest degree :  13\n"
     ]
    }
   ],
   "source": [
    "#This is to print the best parameters for each \n",
    "for i in range(3):\n",
    "    print(\"jet = \", i)\n",
    "    #build the polynomial matrix of the best degree for this jet\n",
    "    tx = build_poly_matrix(xx[i], degree_arr[i])\n",
    "    #compute the accuracy\n",
    "    acc1 = accuracy(yy[i], tx, w_arr[i])\n",
    "\n",
    "    print(\"\\tRidge regression accuracy : \", acc1)\n",
    "    print(\"\\tbest lambda : \", lambda_arr[i])\n",
    "    print(\"\\tbest degree : \", degree_arr[i])"
   ]
  },
  {
   "cell_type": "markdown",
   "metadata": {},
   "source": [
    "### Compute the overall accuracy"
   ]
  },
  {
   "cell_type": "code",
   "execution_count": 16,
   "metadata": {
    "collapsed": true
   },
   "outputs": [],
   "source": [
    "def get_overall_predictions(xx, weight_array, degree_array, jet_indices):\n",
    "    \"\"\"\n",
    "    Compute the overall prediction using the weights of\n",
    "    all 3 jet subsets.\n",
    "    \"\"\"\n",
    "    tx = []\n",
    "    for jet in range(3):\n",
    "        tx.append(build_poly_matrix(xx[jet], degree_array[jet]))\n",
    "        \n",
    "    #compute the predictions\n",
    "    y_p = arrange_prediction(weight_array, tx, jet_indices)\n",
    "    \n",
    "    return y_p"
   ]
  },
  {
   "cell_type": "code",
   "execution_count": 3,
   "metadata": {
    "collapsed": false,
    "scrolled": false
   },
   "outputs": [
    {
     "data": {
      "text/plain": [
       "0.829264"
      ]
     },
     "execution_count": 3,
     "metadata": {},
     "output_type": "execute_result"
    }
   ],
   "source": [
    "#get the prediction for the training set\n",
    "y_p = get_overall_predictions(xx, w_arr, degree_arr, jet_indices)\n",
    "#compute the accuracy with the prediction already given\n",
    "accuracy(y, y_pred=y_p)"
   ]
  },
  {
   "cell_type": "markdown",
   "metadata": {},
   "source": [
    "### Create the submission"
   ]
  },
  {
   "cell_type": "code",
   "execution_count": 20,
   "metadata": {
    "collapsed": true
   },
   "outputs": [],
   "source": [
    "#get the prediction for the testing set\n",
    "y_p_te = get_overall_predictions(xx_te, w_arr, degree_arr, jet_indices_te)"
   ]
  },
  {
   "cell_type": "code",
   "execution_count": 21,
   "metadata": {
    "collapsed": true
   },
   "outputs": [],
   "source": [
    "create_csv_submission(ids_te, y_p_te, \"submission.csv\")"
   ]
  },
  {
   "cell_type": "markdown",
   "metadata": {},
   "source": [
    "### Run cell"
   ]
  },
  {
   "cell_type": "code",
   "execution_count": 1,
   "metadata": {
    "collapsed": false
   },
   "outputs": [
    {
     "name": "stdout",
     "output_type": "stream",
     "text": [
      "jet :  0\n",
      "jet :  1\n",
      "jet :  2\n",
      "Training done, creating submission.\n",
      "==> Done.\n"
     ]
    }
   ],
   "source": [
    "#Imports\n",
    "import numpy as np\n",
    "\n",
    "from proj1_helpers import *\n",
    "from helpers import *\n",
    "from implementations import *\n",
    "from cross_validation import *\n",
    "\n",
    "from data_pre_processing import preprocess_data\n",
    "\n",
    "\n",
    "# Load data\n",
    "TEST_PATH = \"data/test.csv\"\n",
    "TRAIN_PATH = \"data/train.csv\"\n",
    "\n",
    "OUTPUT_PATH = \"data/submission.csv\"\n",
    "\n",
    "te_data = load_csv_data(TEST_PATH, sub_sample=False)\n",
    "tr_data = load_csv_data(TRAIN_PATH, sub_sample=False)\n",
    "\n",
    "#get testing data\n",
    "x_te = te_data[1]\n",
    "y_te = te_data[0]\n",
    "#we only need the ids to make the submission file\n",
    "ids_te = te_data[2]\n",
    "\n",
    "#get training data\n",
    "x = tr_data[1]\n",
    "y = tr_data[0]\n",
    "\n",
    "#get the training data split by set and the jet indices\n",
    "xx, yy, jet_indices = preprocess_data(x, y, augment=True, clean=True)\n",
    "\n",
    "#get the tresting data split by set and the jet indices\n",
    "xx_te, yy_te, jet_indices_te = preprocess_data(x_te, y_te, augment=True, clean=True)\n",
    "\n",
    "#Prepare hyperparameters:\n",
    "#Here we already give the best parameter\n",
    "#since we already found them.\n",
    "degrees = [[5,5], [9, 9], [13, 13]]\n",
    "lambdas =[[1e-08], [8.53167852417e-07], [1.26896100317e-07]]\n",
    "#We tried different seeds and this was the best one.\n",
    "seed = 120\n",
    "\n",
    "#array to store the best results \n",
    "#and parameters for each jet.\n",
    "accuracy_arr = []\n",
    "w_arr = []\n",
    "lambda_arr = []\n",
    "degree_arr = []\n",
    "\n",
    "#for each jet\n",
    "for jet in range(3):\n",
    "    #print something to get an idea of the progress\n",
    "    print('jet : ', jet)\n",
    "    best_accuracy, best_w, best_degree, best_lambda = \\\n",
    "        best_model_cross_validation(xx[jet], yy[jet], seed, degrees[jet], lambdas=lambdas[jet])  \n",
    "    \n",
    "    accuracy_arr.append(best_accuracy)\n",
    "    w_arr.append(best_w)\n",
    "    lambda_arr.append(best_lambda)\n",
    "    degree_arr.append(best_degree)\n",
    "\n",
    "print('Training done, creating submission.')\n",
    "#get the prediction for the testing set\n",
    "y_p_te = get_overall_predictions(xx_te, w_arr, degree_arr, jet_indices_te)\n",
    "create_csv_submission(ids_te, y_p_te, OUTPUT_PATH)\n",
    "print('==> Done.')"
   ]
  },
  {
   "cell_type": "code",
   "execution_count": null,
   "metadata": {
    "collapsed": true
   },
   "outputs": [],
   "source": []
  }
 ],
 "metadata": {
  "kernelspec": {
   "display_name": "Python [Root]",
   "language": "python",
   "name": "Python [Root]"
  },
  "language_info": {
   "codemirror_mode": {
    "name": "ipython",
    "version": 3
   },
   "file_extension": ".py",
   "mimetype": "text/x-python",
   "name": "python",
   "nbconvert_exporter": "python",
   "pygments_lexer": "ipython3",
   "version": "3.5.2"
  }
 },
 "nbformat": 4,
 "nbformat_minor": 2
}
